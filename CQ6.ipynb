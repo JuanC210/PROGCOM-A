{
  "nbformat": 4,
  "nbformat_minor": 0,
  "metadata": {
    "colab": {
      "provenance": []
    },
    "kernelspec": {
      "name": "python3",
      "display_name": "Python 3"
    },
    "language_info": {
      "name": "python"
    }
  },
  "cells": [
    {
      "cell_type": "markdown",
      "source": [
        "#True y False\n",
        "true y False son datos de tipo booleanos y representan si una expresion es verdadera o falsa, True(Verdadero) y False(Falso)"
      ],
      "metadata": {
        "id": "3MP1KoOU4IGv"
      }
    },
    {
      "cell_type": "code",
      "execution_count": null,
      "metadata": {
        "id": "wVJTU1Lx1zDI",
        "colab": {
          "base_uri": "https://localhost:8080/"
        },
        "outputId": "6a5dcc70-233f-4718-8bfb-88c99f99beb1"
      },
      "outputs": [
        {
          "output_type": "execute_result",
          "data": {
            "text/plain": [
              "False"
            ]
          },
          "metadata": {},
          "execution_count": 26
        }
      ],
      "source": [
        "#Ejemplo\n",
        "A=(\"HOLA\")\n",
        "A.islower()"
      ]
    },
    {
      "cell_type": "markdown",
      "source": [
        "#If, Elif y Else\n",
        "\n",
        "Son declaraciones condicionales que se utilizan cuando se desea ejecutar código basado en una condición particular"
      ],
      "metadata": {
        "id": "W4rA7nwZ4OqP"
      }
    },
    {
      "cell_type": "code",
      "source": [
        "#Ejemplo\n",
        "#En un parque de diversiones se puede ingresar de 12 años para arriba, pero si tiene 12 debe subir a las atracciones con un acompñante\n",
        "A=int(input(\"Intoduzca la edad del cliente\"))\n",
        "if A== 12:\n",
        " print(\"Se debe ir con un acompañante \")\n",
        "elif A>12:\n",
        " print(\"Se cumple con el requisito de edad\")\n",
        "else:\n",
        " print(\"No se cumple el requisito de edad\")\n"
      ],
      "metadata": {
        "id": "KO8yCSQd4HGP",
        "colab": {
          "base_uri": "https://localhost:8080/"
        },
        "outputId": "7603379e-dda1-44a1-b7f2-b4fa42342992"
      },
      "execution_count": null,
      "outputs": [
        {
          "output_type": "stream",
          "name": "stdout",
          "text": [
            "Intoduzca la edad del cliente13\n",
            "Se cumple con el requisito de edad\n"
          ]
        }
      ]
    },
    {
      "cell_type": "markdown",
      "source": [
        "# Import\n",
        "se refiere a permitir que un archivo de Python o un módulo de Python acceda al script desde otro archivo o módulo de Python"
      ],
      "metadata": {
        "id": "3M6IPOqJqVZi"
      }
    },
    {
      "cell_type": "code",
      "source": [
        "#Ejemplo\n",
        "import numpy # aquí importamos en el código numpy que es una es una biblioteca para el lenguaje de programación Python que da soporte para crear vectores y matrices grandes\n",
        "\n"
      ],
      "metadata": {
        "id": "hmDVBMfxuI8n"
      },
      "execution_count": null,
      "outputs": []
    },
    {
      "cell_type": "markdown",
      "source": [
        "#As\n",
        "Es una instrucción de python que se utiliza para crear un alias"
      ],
      "metadata": {
        "id": "YfKD8hRSu0xi"
      }
    },
    {
      "cell_type": "code",
      "source": [
        "import numpy as np #aquí le decimo que numpy se reconocido con el código como np y cuando usemos np el programa entienda que hablamos de numpy\n"
      ],
      "metadata": {
        "id": "RN9fOJKoucUa"
      },
      "execution_count": null,
      "outputs": []
    },
    {
      "cell_type": "markdown",
      "source": [
        "#Continue\n",
        "Es una instrucción de python da la opción de omitir la parte de un bucle en la que se activa una condición externa, pero continuar para completar el resto del bucle"
      ],
      "metadata": {
        "id": "6rEyw0zPvcFe"
      }
    },
    {
      "cell_type": "code",
      "source": [
        "#Ejemplo\n",
        "n = 0\n",
        "\n",
        "for n in range(12):\n",
        "    if n == 5:\n",
        "        continue    \n",
        "\n",
        "    print('Number is ' + str(n))\n",
        "\n",
        "print('Out of loop')"
      ],
      "metadata": {
        "colab": {
          "base_uri": "https://localhost:8080/"
        },
        "id": "6TjOmmZDw_Mr",
        "outputId": "e664ce55-6daa-4d2e-feca-f12921282a77"
      },
      "execution_count": null,
      "outputs": [
        {
          "output_type": "stream",
          "name": "stdout",
          "text": [
            "Number is 0\n",
            "Number is 1\n",
            "Number is 2\n",
            "Number is 3\n",
            "Number is 4\n",
            "Number is 6\n",
            "Number is 7\n",
            "Number is 8\n",
            "Number is 9\n",
            "Number is 10\n",
            "Number is 11\n",
            "Out of loop\n"
          ]
        }
      ]
    },
    {
      "cell_type": "markdown",
      "source": [
        "#Break\n",
        "Instrucción que le proporciona la oportunidad de cerrar un bucle cuando se activa una condición externa"
      ],
      "metadata": {
        "id": "UUmhFaM2yVdD"
      }
    },
    {
      "cell_type": "code",
      "source": [
        "#Ejemplo\n",
        "n = 0\n",
        "\n",
        "for n in range(12):\n",
        "    if n == 5:\n",
        "        break    \n",
        "\n",
        "    print('Number is ' + str(n))\n",
        "\n",
        "print('Out of loop')"
      ],
      "metadata": {
        "colab": {
          "base_uri": "https://localhost:8080/"
        },
        "id": "MIoiKptuyVxj",
        "outputId": "317abf83-af73-4e5b-9ab4-ecc3f211b07e"
      },
      "execution_count": null,
      "outputs": [
        {
          "output_type": "stream",
          "name": "stdout",
          "text": [
            "Number is 0\n",
            "Number is 1\n",
            "Number is 2\n",
            "Number is 3\n",
            "Number is 4\n",
            "Out of loop\n"
          ]
        }
      ]
    },
    {
      "cell_type": "markdown",
      "source": [
        "#From\n",
        "Al usar la forma from ... import ... , le indicamos a Python específicamente cuáles objetos queremos importar de un módulo en particular"
      ],
      "metadata": {
        "id": "neNWB8VsywVT"
      }
    },
    {
      "cell_type": "code",
      "source": [
        "#Ejemplo\n",
        "from math import sqrt\n",
        "sqrt(100)"
      ],
      "metadata": {
        "colab": {
          "base_uri": "https://localhost:8080/"
        },
        "id": "LQ2UBGtzyvV-",
        "outputId": "6d75b74a-881d-4fcd-bdd1-b38bc00c7638"
      },
      "execution_count": null,
      "outputs": [
        {
          "output_type": "execute_result",
          "data": {
            "text/plain": [
              "10.0"
            ]
          },
          "metadata": {},
          "execution_count": 18
        }
      ]
    },
    {
      "cell_type": "markdown",
      "source": [
        "#For y while\n",
        "Ambos son ciclos de repetición donde el primero repite en un rango determinado y el segundo indefinidamente mientras se cumpla la condición "
      ],
      "metadata": {
        "id": "I--5Zsnk0Hwk"
      }
    },
    {
      "cell_type": "code",
      "source": [
        "#Ejemplo - For\n",
        "Acumulador=0\n",
        "N=int(input(\"ingrese el número \"))\n",
        "for i in range (1,N+1):\n",
        "  print(N,\"MOD\",i,\"=\",N%i) \n",
        "  if N%i == 0:\n",
        "     Acumulador= Acumulador + 1\n",
        "\n",
        "print(\" \")\n",
        "\n",
        "if Acumulador <= 2:\n",
        " print(N, \"Solo es divisible por 1 y el mismo por lo que\", N,\"es un número primo\")\n",
        "else:\n",
        "  print(N, \"Es divisible por más valores qué 1 y el mismo por lo que\", N,\"no es un número primo\")"
      ],
      "metadata": {
        "colab": {
          "base_uri": "https://localhost:8080/"
        },
        "id": "eCnkfF_m0_Cd",
        "outputId": "5a6a1fd2-701d-480a-f61c-9ed43c7d1a06"
      },
      "execution_count": null,
      "outputs": [
        {
          "output_type": "stream",
          "name": "stdout",
          "text": [
            "ingrese el número 12\n",
            "12 MOD 1 = 0\n",
            "12 MOD 2 = 0\n",
            "12 MOD 3 = 0\n",
            "12 MOD 4 = 0\n",
            "12 MOD 5 = 2\n",
            "12 MOD 6 = 0\n",
            "12 MOD 7 = 5\n",
            "12 MOD 8 = 4\n",
            "12 MOD 9 = 3\n",
            "12 MOD 10 = 2\n",
            "12 MOD 11 = 1\n",
            "12 MOD 12 = 0\n",
            " \n",
            "12 Es divisible por más valores qué 1 y el mismo por lo que 12 no es un número primo\n"
          ]
        }
      ]
    },
    {
      "cell_type": "code",
      "source": [
        "#Ejemplo - While\n",
        "n=int(input(\"Ingresa un número, menos el 2 porfa \"))\n",
        "i=2\n",
        "while n%i !=0:\n",
        "  i+=1\n",
        "if i==n:\n",
        "  print(str(n),\" es primo\")\n",
        "\n",
        "else:\n",
        "  print(str(n), \" no es primo\")"
      ],
      "metadata": {
        "colab": {
          "base_uri": "https://localhost:8080/"
        },
        "id": "d-xrEDW51LrD",
        "outputId": "ef5bc7e5-f57e-4f2e-f4e2-748b3d9cdb67"
      },
      "execution_count": null,
      "outputs": [
        {
          "output_type": "stream",
          "name": "stdout",
          "text": [
            "Ingresa un número, menos el 2 porfa 12\n",
            "12  no es primo\n"
          ]
        }
      ]
    },
    {
      "cell_type": "markdown",
      "source": [
        "#in\n",
        "Es un operador de pertenencia devuelve True si el valor especificado se encuentra en la secuencia. En caso contrario devuelve False"
      ],
      "metadata": {
        "id": "W5EhyiQg1WdI"
      }
    },
    {
      "cell_type": "code",
      "source": [
        "#Ejemplo\n",
        "a = [1,2,3,4,5]\n",
        "\n",
        "print(7) in a "
      ],
      "metadata": {
        "colab": {
          "base_uri": "https://localhost:8080/"
        },
        "id": "G9NDyqpU2clf",
        "outputId": "e459340d-47db-4350-fa73-d40c4f0632a4"
      },
      "execution_count": null,
      "outputs": [
        {
          "output_type": "stream",
          "name": "stdout",
          "text": [
            "7\n"
          ]
        },
        {
          "output_type": "execute_result",
          "data": {
            "text/plain": [
              "False"
            ]
          },
          "metadata": {},
          "execution_count": 24
        }
      ]
    },
    {
      "cell_type": "markdown",
      "source": [
        "# And, or y not\n",
        "Son operadores logicos donde and\tDevuelve True si ambos operandos son True, or\tDevuelve True si alguno de los operandos es True y not\tDevuelve True si alguno de los operandos False"
      ],
      "metadata": {
        "id": "C3LrEY2g2zGA"
      }
    },
    {
      "cell_type": "code",
      "source": [
        "#Ejemplo-And\n",
        "x=56\n",
        "print(x<85 and x<100)\n"
      ],
      "metadata": {
        "colab": {
          "base_uri": "https://localhost:8080/"
        },
        "id": "I0LFbcQE3XFI",
        "outputId": "4c966988-f46e-43ce-9554-3c76018e6413"
      },
      "execution_count": null,
      "outputs": [
        {
          "output_type": "stream",
          "name": "stdout",
          "text": [
            "True\n"
          ]
        }
      ]
    },
    {
      "cell_type": "code",
      "source": [
        "#Ejemplo-Or\n",
        "Y=56\n",
        "print(Y<25 or Y<100)"
      ],
      "metadata": {
        "colab": {
          "base_uri": "https://localhost:8080/"
        },
        "id": "j0lSLmX4WUfx",
        "outputId": "91277901-498b-4b49-8350-a64a888ecce2"
      },
      "execution_count": null,
      "outputs": [
        {
          "output_type": "stream",
          "name": "stdout",
          "text": [
            "True\n"
          ]
        }
      ]
    },
    {
      "cell_type": "code",
      "source": [
        "#ejemplo-Not\n",
        "A=56\n",
        "not (A<25 and A<100)"
      ],
      "metadata": {
        "colab": {
          "base_uri": "https://localhost:8080/"
        },
        "id": "V0X0OCHyWh6l",
        "outputId": "467ee204-0fa9-4c46-ca00-df6ba1ded253"
      },
      "execution_count": null,
      "outputs": [
        {
          "output_type": "execute_result",
          "data": {
            "text/plain": [
              "True"
            ]
          },
          "metadata": {},
          "execution_count": 66
        }
      ]
    },
    {
      "cell_type": "markdown",
      "source": [
        "#Assert\n",
        "es una instruccion de Python que te permite definir condiciones que deban cumplirse siempre"
      ],
      "metadata": {
        "id": "rDyDfYuYAUY2"
      }
    },
    {
      "cell_type": "code",
      "source": [
        "#Ejemplo\n",
        "from math import sqrt\n",
        "resultado = sqrt(25)\n",
        "assert resultado == 5.0\n",
        "print(\"True\")"
      ],
      "metadata": {
        "colab": {
          "base_uri": "https://localhost:8080/"
        },
        "id": "BKVSCAsTAlnD",
        "outputId": "27e0fa4e-9ac4-4757-ea3b-004b9c320177"
      },
      "execution_count": null,
      "outputs": [
        {
          "output_type": "stream",
          "name": "stdout",
          "text": [
            "True\n"
          ]
        }
      ]
    },
    {
      "cell_type": "markdown",
      "source": [
        "#Class\n",
        "es una plantilla para el objetivo de la creación de objetos de datos según un modelo predefinido"
      ],
      "metadata": {
        "id": "wTkzZXz5Bu96"
      }
    },
    {
      "cell_type": "code",
      "source": [
        "#Ejemplo\n",
        "class Clase:\n",
        "    \n",
        "    i = 12345\n",
        "\n",
        "    def f(self):\n",
        "        return 'Si buenas'\n"
      ],
      "metadata": {
        "id": "A5_tA_TfC39m"
      },
      "execution_count": null,
      "outputs": []
    },
    {
      "cell_type": "markdown",
      "source": [
        "#Del\n",
        "Se utiliza para eliminar objetos. Debido a la naturaleza orientada a objetos de Python, todo lo que puede contener datos es un objeto. Entonces, la declaración del se puede usar para eliminar variables, objetos de clase, listas, etc."
      ],
      "metadata": {
        "id": "z_UzOslXzU79"
      }
    },
    {
      "cell_type": "code",
      "source": [
        "#Ejemplo\n",
        "List = [\"Serpiente\", \"Panda\", \"Perro\"]\n",
        "print(List)\n",
        "del List[2]\n",
        "print(List)"
      ],
      "metadata": {
        "colab": {
          "base_uri": "https://localhost:8080/"
        },
        "id": "kklHNKKTzgwD",
        "outputId": "a36537db-71b2-441d-9571-2cc27646bd0e"
      },
      "execution_count": null,
      "outputs": [
        {
          "output_type": "stream",
          "name": "stdout",
          "text": [
            "['Serpiente', 'Panda', 'Perro']\n",
            "['Serpiente', 'Panda']\n"
          ]
        }
      ]
    },
    {
      "cell_type": "markdown",
      "source": [
        "#Def\n",
        "Def es una palabra reservada que indica a Python que una nueva función está siendo definida\n"
      ],
      "metadata": {
        "id": "R2xp5S8tDGJW"
      }
    },
    {
      "cell_type": "code",
      "source": [
        "#Ejemplo\n",
        "def greet(name):\n",
        "    \"\"\"\n",
        "    \n",
        "    \"\"\"\n",
        "    print(\"Hola, \" + name + \". Buen dia!\")\n",
        "\n",
        "greet('Paul')"
      ],
      "metadata": {
        "colab": {
          "base_uri": "https://localhost:8080/"
        },
        "id": "J8Hf7G4bDFUR",
        "outputId": "3c73be94-db67-4360-f49c-4d5c64d874ef"
      },
      "execution_count": null,
      "outputs": [
        {
          "output_type": "stream",
          "name": "stdout",
          "text": [
            "Hola, Paul. Buen dia!\n"
          ]
        }
      ]
    },
    {
      "cell_type": "markdown",
      "source": [
        "#Except y Try\n",
        "Except es un bloque que permite manejar el error. El bloque else le permite ejecutar código cuando no hay ningún error. \n",
        "\n",
        "Try es el bloque con las sentencias que quieres ejecutar.\n"
      ],
      "metadata": {
        "id": "c_xSzDZwETES"
      }
    },
    {
      "cell_type": "code",
      "source": [
        "#Ejemplo\n",
        "try:\n",
        "    res = (10/0)\n",
        "    print(res)\n",
        "except ZeroDivisionError:\n",
        "    print(\"Trataste de dividir entre cero :( \")"
      ],
      "metadata": {
        "colab": {
          "base_uri": "https://localhost:8080/"
        },
        "id": "G0qBwYZsF0w4",
        "outputId": "d0ca9902-5ecf-4d79-c00b-b9516bbc6e38"
      },
      "execution_count": null,
      "outputs": [
        {
          "output_type": "stream",
          "name": "stdout",
          "text": [
            "Trataste de dividir entre cero :( \n"
          ]
        }
      ]
    },
    {
      "cell_type": "markdown",
      "source": [
        "#Finally\n",
        "Bloque donde se escriben las sentencias de finalización, que son típicamente acciones de limpieza"
      ],
      "metadata": {
        "id": "qrkAO45WHhhz"
      }
    },
    {
      "cell_type": "code",
      "source": [
        "#Ejemplo\n",
        "try:\n",
        "    res = (10/0)\n",
        "    print(res)\n",
        "except ZeroDivisionError:\n",
        "    print(\"Trataste de dividir entre cero :( \")\n",
        "finally:\n",
        "    print(\"Recuerda que no es posible dividir entre cero\") \n"
      ],
      "metadata": {
        "colab": {
          "base_uri": "https://localhost:8080/"
        },
        "id": "NTi64s2QMWSI",
        "outputId": "67790ea3-e6b9-4de2-d56c-7d7483d740ad"
      },
      "execution_count": null,
      "outputs": [
        {
          "output_type": "stream",
          "name": "stdout",
          "text": [
            "Trataste de dividir entre cero :( \n",
            "Recuerda que no es posible dividir entre cero\n"
          ]
        }
      ]
    },
    {
      "cell_type": "markdown",
      "source": [
        "#Global\n",
        "Se a la variables  definidas en el cuerpo principal del programa fuera de cualquier función"
      ],
      "metadata": {
        "id": "spzSuqNzM2CP"
      }
    },
    {
      "cell_type": "code",
      "source": [
        "#Ejemplo\n",
        "def saludar():\n",
        "\tprint(saludo)\n",
        "\n",
        "\n",
        "saludo = '¡Hola, Soy Global xd!' #Es global porque está definida en el cuerpo principal del programa\n",
        "\n",
        "saludar()"
      ],
      "metadata": {
        "colab": {
          "base_uri": "https://localhost:8080/"
        },
        "id": "pxUWl_tKNV03",
        "outputId": "f44606e1-7f82-4cf2-a887-557bb2a233e9"
      },
      "execution_count": null,
      "outputs": [
        {
          "output_type": "stream",
          "name": "stdout",
          "text": [
            "¡Hola, Soy Global xd!\n"
          ]
        }
      ]
    },
    {
      "cell_type": "markdown",
      "source": [
        "#None\n",
        "se utiliza para definir un valor nulo o ningún valor."
      ],
      "metadata": {
        "id": "mu2xEFsvNwFg"
      }
    },
    {
      "cell_type": "code",
      "source": [
        "#Ejemplo\n",
        "x = None\n",
        "\n",
        "print(x)"
      ],
      "metadata": {
        "colab": {
          "base_uri": "https://localhost:8080/"
        },
        "id": "I5XVznDoOaqa",
        "outputId": "f23e5165-6480-455b-fc69-39ce55bd88ee"
      },
      "execution_count": null,
      "outputs": [
        {
          "output_type": "stream",
          "name": "stdout",
          "text": [
            "None\n"
          ]
        }
      ]
    },
    {
      "cell_type": "markdown",
      "source": [
        "#IS\n",
        "ìs se utiliza para comparar la identidad de dos objetos."
      ],
      "metadata": {
        "id": "1_x8yyWqOic7"
      }
    },
    {
      "cell_type": "code",
      "source": [
        "#Ejemplo\n",
        "A=int(4)\n",
        "B=int(4)\n",
        "\n",
        "A is B"
      ],
      "metadata": {
        "colab": {
          "base_uri": "https://localhost:8080/"
        },
        "id": "MnTtCUD1O7Nr",
        "outputId": "8ab21a1d-cbb5-4871-c086-c7660589938f"
      },
      "execution_count": null,
      "outputs": [
        {
          "output_type": "execute_result",
          "data": {
            "text/plain": [
              "True"
            ]
          },
          "metadata": {},
          "execution_count": 52
        }
      ]
    },
    {
      "cell_type": "markdown",
      "source": [
        "#Lambda\n",
        "Es una forma corta de declarar funciones pequeñas y anónimas"
      ],
      "metadata": {
        "id": "bkEEZOYdPglH"
      }
    },
    {
      "cell_type": "code",
      "source": [
        "#Ejemplo\n",
        "Potencia = lambda x: x ** 2 # La funcion va a recoger un número entero y devuelve su cuadrado\n",
        "print(Potencia(10)) "
      ],
      "metadata": {
        "colab": {
          "base_uri": "https://localhost:8080/"
        },
        "id": "O9wgnw4kP9T7",
        "outputId": "ae36f9f4-f241-4277-cdaf-55e59b891e60"
      },
      "execution_count": null,
      "outputs": [
        {
          "output_type": "stream",
          "name": "stdout",
          "text": [
            "100\n"
          ]
        }
      ]
    },
    {
      "cell_type": "markdown",
      "source": [
        "#Nonlocal\n",
        "Variable dada sobre la que se trabaja no pertenece localmente a la función anidada dada"
      ],
      "metadata": {
        "id": "lXyP1OtHQcZf"
      }
    },
    {
      "cell_type": "code",
      "source": [
        "#Ejemplo\n"
      ],
      "metadata": {
        "colab": {
          "base_uri": "https://localhost:8080/"
        },
        "id": "C5ujMBlZRMT7",
        "outputId": "d1a1c1bc-6aaf-4711-d87e-5dba5e90996d"
      },
      "execution_count": null,
      "outputs": [
        {
          "output_type": "stream",
          "name": "stdout",
          "text": [
            "John\n"
          ]
        }
      ]
    },
    {
      "cell_type": "markdown",
      "source": [
        "#Pass\n",
        "La instrucción pass le indica al programa que ignore esa condición y continúe ejecutando el programa como de costumbre"
      ],
      "metadata": {
        "id": "l8nceTZ1Sq2U"
      }
    },
    {
      "cell_type": "code",
      "source": [
        "#Ejemplo\n",
        "n = 0\n",
        "\n",
        "for n in range(12):\n",
        "    if n == 5:\n",
        "        pass   \n",
        "\n",
        "    print('Number is ' + str(n))\n",
        "\n",
        "print('Out of loop')"
      ],
      "metadata": {
        "colab": {
          "base_uri": "https://localhost:8080/"
        },
        "id": "kzr7m8pwTVTi",
        "outputId": "6d28d8ac-c96e-4d60-a822-e4ebc989a9c6"
      },
      "execution_count": null,
      "outputs": [
        {
          "output_type": "stream",
          "name": "stdout",
          "text": [
            "Number is 0\n",
            "Number is 1\n",
            "Number is 2\n",
            "Number is 3\n",
            "Number is 4\n",
            "Number is 5\n",
            "Number is 6\n",
            "Number is 7\n",
            "Number is 8\n",
            "Number is 9\n",
            "Number is 10\n",
            "Number is 11\n",
            "Out of loop\n"
          ]
        }
      ]
    },
    {
      "cell_type": "markdown",
      "source": [
        "#Raise\n",
        "La función raise es el equivalente de throw en C# o C++"
      ],
      "metadata": {
        "id": "JbQlH_K-UBhg"
      }
    },
    {
      "cell_type": "code",
      "source": [
        "#Ejemplo\n",
        "\n",
        "x = \"Hola mundo\"\n",
        "\n",
        "if not type(x) is int:\n",
        "  raise TypeError(\"Solo se aceptan enteros\")"
      ],
      "metadata": {
        "colab": {
          "base_uri": "https://localhost:8080/",
          "height": 200
        },
        "id": "fpo_KxkEXGgV",
        "outputId": "04948ffc-910a-4dc3-dbfb-fa3b367194a1"
      },
      "execution_count": null,
      "outputs": [
        {
          "output_type": "error",
          "ename": "TypeError",
          "evalue": "ignored",
          "traceback": [
            "\u001b[0;31m---------------------------------------------------------------------------\u001b[0m",
            "\u001b[0;31mTypeError\u001b[0m                                 Traceback (most recent call last)",
            "\u001b[0;32m<ipython-input-67-ca40f5d09c11>\u001b[0m in \u001b[0;36m<module>\u001b[0;34m\u001b[0m\n\u001b[1;32m      4\u001b[0m \u001b[0;34m\u001b[0m\u001b[0m\n\u001b[1;32m      5\u001b[0m \u001b[0;32mif\u001b[0m \u001b[0;32mnot\u001b[0m \u001b[0mtype\u001b[0m\u001b[0;34m(\u001b[0m\u001b[0mx\u001b[0m\u001b[0;34m)\u001b[0m \u001b[0;32mis\u001b[0m \u001b[0mint\u001b[0m\u001b[0;34m:\u001b[0m\u001b[0;34m\u001b[0m\u001b[0;34m\u001b[0m\u001b[0m\n\u001b[0;32m----> 6\u001b[0;31m   \u001b[0;32mraise\u001b[0m \u001b[0mTypeError\u001b[0m\u001b[0;34m(\u001b[0m\u001b[0;34m\"Solo se aceptan enteros\"\u001b[0m\u001b[0;34m)\u001b[0m\u001b[0;34m\u001b[0m\u001b[0;34m\u001b[0m\u001b[0m\n\u001b[0m",
            "\u001b[0;31mTypeError\u001b[0m: Solo se aceptan enteros"
          ]
        }
      ]
    },
    {
      "cell_type": "markdown",
      "source": [
        "#Return\n",
        "Indica el final de la función pero también el valor que devuelve la función. La ejecución del programa continúa tras la llamada a la función."
      ],
      "metadata": {
        "id": "Q20SN4JDX_V9"
      }
    },
    {
      "cell_type": "code",
      "source": [
        "#Ejemplo\n",
        "def cube(x):\n",
        "   A=x**3\n",
        "   return A"
      ],
      "metadata": {
        "id": "Y9HJcnZYYPyd"
      },
      "execution_count": null,
      "outputs": []
    },
    {
      "cell_type": "markdown",
      "source": [
        "#With\n",
        "With permite la ejecución del código de inicialización y finalización alrededor de un bloque de código"
      ],
      "metadata": {
        "id": "UV5Lb8kNYy4R"
      }
    },
    {
      "cell_type": "code",
      "source": [
        "#Ejemplo\n",
        "with open('file_path', 'w') as file:\n",
        "    file.write('hello world !')"
      ],
      "metadata": {
        "id": "HgDs1tZeaPrx"
      },
      "execution_count": null,
      "outputs": []
    },
    {
      "cell_type": "markdown",
      "source": [
        "#Yield\n",
        "Se le llama así a un objeto que es capaz de retornar sus miembros uno a la vez"
      ],
      "metadata": {
        "id": "cvo7y5Pay8VR"
      }
    },
    {
      "cell_type": "code",
      "source": [
        "#Ejemplo\n",
        "def square(nums):\n",
        "\tfor i in nums:\n",
        "\t\tyield(i*i)\n",
        "\n",
        "someNums = square([1, 2, 3, 4, 5])\n",
        "\n",
        "print someNums"
      ],
      "metadata": {
        "id": "eFPefHCazD8T"
      },
      "execution_count": null,
      "outputs": []
    }
  ]
}