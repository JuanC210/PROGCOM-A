{
  "nbformat": 4,
  "nbformat_minor": 0,
  "metadata": {
    "colab": {
      "provenance": []
    },
    "kernelspec": {
      "name": "python3",
      "display_name": "Python 3"
    },
    "language_info": {
      "name": "python"
    }
  },
  "cells": [
    {
      "cell_type": "code",
      "source": [
        "import random\n",
        "\n",
        "aleatorio = random.randrange(0, 5)\n",
        "elijePc = \"\"\n",
        "print(\"1)Piedra\")\n",
        "print(\"2)Papel\")\n",
        "print(\"3)Tijera\")\n",
        "print(\"4)Spock\")\n",
        "print(\"5)Lagarto\")\n",
        "opcion = int(input(\"Que elijes: \"))\n",
        "\n",
        "if opcion == 1:\n",
        "    elijeUsuario = \"piedra\"\n",
        "elif opcion == 2:\n",
        "    elijeUsuario = \"papel\"\n",
        "elif opcion == 3:\n",
        "    elijeUsuario = \"tijera\"\n",
        "elif opcion == 4:\n",
        "    elijeUsuario = \"spock\"\n",
        "elif opcion == 5:\n",
        "    elijeUsuario = \"lagarto\"\n",
        "print(\"Tu elijes: \", elijeUsuario)\n",
        "\n",
        "if aleatorio == 0:\n",
        "    elijePc = \"piedra\"\n",
        "elif aleatorio == 1:\n",
        "    elijePc = \"papel\"\n",
        "elif aleatorio == 2:\n",
        "    elijePc = \"tijera\"\n",
        "elif aleatorio == 3:\n",
        "    elijePc = \"spock\"\n",
        "elif aleatorio == 4:\n",
        "    elijePc = \"lagarto\"\n",
        "print(\"PC elijio: \", elijePc)\n",
        "print(\"...\")\n",
        "if elijePc == \"piedra\" and elijeUsuario == \"papel\":\n",
        "    print(\"Ganaste, papel envulve piedra\")\n",
        "elif elijePc == \"tijera\" and elijeUsuario == \"papel\":\n",
        "    print(\"perdiste, Tijera corta papel\")\n",
        "elif elijePc == \"spock\" and elijeUsuario == \"papel\":\n",
        "    print(\"Ganaste, papel desautoriza Spock\")\n",
        "elif elijePc == \"lagarto\" and elijeUsuario == \"papel\":\n",
        "\n",
        "    print(\"perdiste, lagarto come papel\")\n",
        "elif elijePc == \"papel\" and elijeUsuario == \"tijera\":\n",
        "    print(\"Ganaste, Tijera corta papel\")\n",
        "elif elijePc == \"piedra\" and elijeUsuario == \"tijera\":\n",
        "    print(\"perdiste, Piedra pisa tijera\")\n",
        "elif elijePc == \"lagarto\" and elijeUsuario == \"tijera\":\n",
        "    print(\"Ganaste, tijera corta lagarto\")\n",
        "elif elijePc == \"spock\" and elijeUsuario == \"tijera\":\n",
        "    print(\"perdiste, spock rompe tijera\")\n",
        "    \n",
        "elif elijePc == \"spock\" and elijeUsuario == \"piedra\":\n",
        "    print(\"perdiste, Spock vaporiza piedra\")\n",
        "elif elijePc == \"tijera\" and elijeUsuario == \"piedra\":\n",
        "    print(\"Ganaste, Piedra pisa tijera\")\n",
        "elif elijePc == \"papel\" and elijeUsuario == \"piedra\":\n",
        "    print(\"perdiste, papel envulve piedra\")\n",
        "elif elijePc == \"lagarto\" and elijeUsuario == \"piedra\":\n",
        "\n",
        "    print(\"Ganaste, piedra pisa lagarto\")\n",
        "elif elijePc == \"piedra\" and elijeUsuario == \"lagarto\":\n",
        "    print(\"perdiste, piedra pisa Lagarto\")\n",
        "elif elijePc == \"Spock\" and elijeUsuario == \"lagarto\":\n",
        "    print(\"Ganste, Lagarto envenena Spock\")\n",
        "elif elijePc == \"tijera\" and elijeUsuario == \"lagarto\":\n",
        "    print(\"Perdiste, tijera corta lagarto\")\n",
        "elif elijePc == \"papel\" and elijeUsuario == \"lagarto\":\n",
        "    print(\"Ganaste, lagarto come papel\")\n",
        "\n",
        "elif elijePc == \"papel\" and elijeUsuario == \"spock\":\n",
        "    print(\"perdiste, papel desautoriza Spock\")\n",
        "elif elijePc == \"tijera\" and elijeUsuario == \"spock\":\n",
        "    print(\"Ganaste, spock rompe tijera\")\n",
        "elif elijePc == \"piedra\" and elijeUsuario == \"spock\":\n",
        "    print(\"Ganaste, spock vaporiza piedra\")\n",
        "elif elijePc == \"lagarto\" and elijeUsuario == \"spock\":\n",
        "    print(\"perdiste, sLagarto envenena Spock\")\n",
        "elif elijePc == elijeUsuario:\n",
        "    print(\"empate\")"
      ],
      "metadata": {
        "id": "P3xo_ZmHntgp",
        "colab": {
          "base_uri": "https://localhost:8080/"
        },
        "outputId": "3e18cbfb-21f2-416f-e4cf-26a37d53b129"
      },
      "execution_count": 2,
      "outputs": [
        {
          "output_type": "stream",
          "name": "stdout",
          "text": [
            "1)Piedra\n",
            "2)Papel\n",
            "3)Tijera\n",
            "4)Spock\n",
            "5)Lagarto\n",
            "Que elijes: 5\n",
            "Tu elijes:  lagarto\n",
            "PC elijio:  piedra\n",
            "...\n",
            "perdiste, piedra pisa Lagarto\n"
          ]
        }
      ]
    },
    {
      "cell_type": "markdown",
      "source": [],
      "metadata": {
        "id": "rkKgsHMDM7Xf"
      }
    }
  ]
}