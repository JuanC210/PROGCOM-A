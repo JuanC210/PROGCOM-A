{
  "nbformat": 4,
  "nbformat_minor": 0,
  "metadata": {
    "colab": {
      "provenance": []
    },
    "kernelspec": {
      "name": "python3",
      "display_name": "Python 3"
    },
    "language_info": {
      "name": "python"
    }
  },
  "cells": [
    {
      "cell_type": "markdown",
      "source": [
        "#1. SyntaxError\n",
        "El error de sintaxis ocurre cuando existe un error de interpretación, generalmente por la falta de algo.\n",
        "\n",
        "En este codigo se puede observar que da un error de sintaxis que señala \"print b\", esto dado porque el error se encuentra aquí."
      ],
      "metadata": {
        "id": "aD1I0W3L026s"
      }
    },
    {
      "cell_type": "code",
      "source": [
        "a=108\n",
        "b=450\n",
        "c=a+b\n",
        "print(a)\n",
        "print(c)\n",
        "print b\n",
        "\n",
        "####En este caso se puede hacer caso a lo que recomienda el error. Corregir este error es muy sencillo puesto que solo es necesario agregar parentesis: \"print(b)\""
      ],
      "metadata": {
        "colab": {
          "base_uri": "https://localhost:8080/",
          "height": 130
        },
        "outputId": "6886a73b-da0b-42fb-b1a1-c8c9c12bd81d",
        "id": "f0aHrkMQ027A"
      },
      "execution_count": null,
      "outputs": [
        {
          "output_type": "error",
          "ename": "SyntaxError",
          "evalue": "ignored",
          "traceback": [
            "\u001b[0;36m  File \u001b[0;32m\"<ipython-input-19-6f3c7f616712>\"\u001b[0;36m, line \u001b[0;32m6\u001b[0m\n\u001b[0;31m    print b\u001b[0m\n\u001b[0m          ^\u001b[0m\n\u001b[0;31mSyntaxError\u001b[0m\u001b[0;31m:\u001b[0m Missing parentheses in call to 'print'. Did you mean print(b)?\n"
          ]
        }
      ]
    },
    {
      "cell_type": "markdown",
      "source": [
        "#2. SyntaxError"
      ],
      "metadata": {
        "id": "BSG43wKs6ZzG"
      }
    },
    {
      "cell_type": "code",
      "source": [
        "X=int(input(\"N\"))\n",
        "for i in:\n",
        "  print(4*N)\n",
        "# Sucede por no definir el range en el for"
      ],
      "metadata": {
        "colab": {
          "base_uri": "https://localhost:8080/",
          "height": 130
        },
        "id": "5acP6NDB6geZ",
        "outputId": "40ef782b-bb7b-4d3f-94fa-7d05dc25b9c7"
      },
      "execution_count": 4,
      "outputs": [
        {
          "output_type": "error",
          "ename": "SyntaxError",
          "evalue": "ignored",
          "traceback": [
            "\u001b[0;36m  File \u001b[0;32m\"<ipython-input-4-a957c7666767>\"\u001b[0;36m, line \u001b[0;32m2\u001b[0m\n\u001b[0;31m    for i in:\u001b[0m\n\u001b[0m            ^\u001b[0m\n\u001b[0;31mSyntaxError\u001b[0m\u001b[0;31m:\u001b[0m invalid syntax\n"
          ]
        }
      ]
    },
    {
      "cell_type": "code",
      "source": [
        "#Entonces for tiene range\n",
        "X=int(input(\"N\"))\n",
        "for i in range(X):\n",
        "  print(4*X)"
      ],
      "metadata": {
        "colab": {
          "base_uri": "https://localhost:8080/"
        },
        "id": "syXIrLIL7JC7",
        "outputId": "3407695d-ca48-4d0b-fd1f-af215a240223"
      },
      "execution_count": 6,
      "outputs": [
        {
          "output_type": "stream",
          "name": "stdout",
          "text": [
            "N4\n",
            "16\n",
            "16\n",
            "16\n",
            "16\n"
          ]
        }
      ]
    },
    {
      "cell_type": "markdown",
      "source": [
        "#3. SyntaxError"
      ],
      "metadata": {
        "id": "9xcyhk-k72RA"
      }
    },
    {
      "cell_type": "code",
      "source": [
        "print(Mi nombre)\n",
        "#Simple solo faltan las comillas"
      ],
      "metadata": {
        "colab": {
          "base_uri": "https://localhost:8080/",
          "height": 130
        },
        "id": "1_zWovT576u4",
        "outputId": "f1b4ad1e-4695-459e-b1e9-37fcd9c57e71"
      },
      "execution_count": 7,
      "outputs": [
        {
          "output_type": "error",
          "ename": "SyntaxError",
          "evalue": "ignored",
          "traceback": [
            "\u001b[0;36m  File \u001b[0;32m\"<ipython-input-7-cd388cf93670>\"\u001b[0;36m, line \u001b[0;32m1\u001b[0m\n\u001b[0;31m    print(Mi nombre)\u001b[0m\n\u001b[0m                  ^\u001b[0m\n\u001b[0;31mSyntaxError\u001b[0m\u001b[0;31m:\u001b[0m invalid syntax\n"
          ]
        }
      ]
    },
    {
      "cell_type": "markdown",
      "source": [
        "#4.Identation Error\n",
        "El error de identación puede ocurrir cuando los espacios o tabulaciones no están colocados correctamente."
      ],
      "metadata": {
        "id": "UfAlYML_iu90"
      }
    },
    {
      "cell_type": "code",
      "source": [
        "#En este ejemplo se puede ver que se produce un error de identación, ya que \"except\" no toma una lista de excepciones que se especifiquen de esta forma. La excepción IndexError no está siendo capturada por el informe except; más bien, la excepción termina siendo enlazada a un parámetro llamado IndexError.\n",
        "try:\n",
        "     l = [\"a\", \"b\"]\n",
        "    int(l[2])\n",
        "  except ValueError, IndexError:  # To catch both exceptions, right?\n",
        "    pass"
      ],
      "metadata": {
        "colab": {
          "base_uri": "https://localhost:8080/",
          "height": 130
        },
        "id": "_g-ke6LGiUCl",
        "outputId": "a1cff2ab-e26a-4ebf-b938-15b2116717ef"
      },
      "execution_count": null,
      "outputs": [
        {
          "output_type": "error",
          "ename": "IndentationError",
          "evalue": "ignored",
          "traceback": [
            "\u001b[0;36m  File \u001b[0;32m\"<tokenize>\"\u001b[0;36m, line \u001b[0;32m3\u001b[0m\n\u001b[0;31m    int(l[2])\u001b[0m\n\u001b[0m    ^\u001b[0m\n\u001b[0;31mIndentationError\u001b[0m\u001b[0;31m:\u001b[0m unindent does not match any outer indentation level\n"
          ]
        }
      ]
    },
    {
      "cell_type": "code",
      "source": [
        "#La forma correcta de capturar varias excepciones en un informe except, es especificar el primer parámetro como una tupla que contiene todas las excepciones a ser capturadas. Además, para la máxima portabilidad, utiliza la palabra clave as.\n",
        "try:\n",
        "  l = [\"a\", \"b\"]\n",
        "  int(l[2])\n",
        "except (ValueError, IndexError) as e:  \n",
        "  pass\n",
        "\n",
        "  "
      ],
      "metadata": {
        "id": "wygVHXW2kCfc"
      },
      "execution_count": null,
      "outputs": []
    },
    {
      "cell_type": "markdown",
      "source": [
        "#5. ZeroDivisonError\n",
        "Este es un erorr que ocurre cuando se intenta dividir entre cero.\n"
      ],
      "metadata": {
        "id": "7R6Emn5EpZNj"
      }
    },
    {
      "cell_type": "code",
      "source": [
        "#En este ejemplo, da error si se intena dividir un numero entre cero. Al ser una operación invalida da error.\n",
        "a=int(input(\"Ingrese un número entero: \"))\n",
        "b=int(input(\"Ingrese otro número entero: \"))\n",
        "tipo= \"División exacta\" if (a%b)==0 else \"División no exacta\"\n",
        "print(tipo)"
      ],
      "metadata": {
        "colab": {
          "base_uri": "https://localhost:8080/",
          "height": 252
        },
        "id": "BVxLj8SjqcBp",
        "outputId": "3aaf17c3-b4b1-4d24-a486-eddda02f9253"
      },
      "execution_count": 1,
      "outputs": [
        {
          "name": "stdout",
          "output_type": "stream",
          "text": [
            "Ingrese un número entero: 5\n",
            "Ingrese otro número entero: 0\n"
          ]
        },
        {
          "output_type": "error",
          "ename": "ZeroDivisionError",
          "evalue": "ignored",
          "traceback": [
            "\u001b[0;31m---------------------------------------------------------------------------\u001b[0m",
            "\u001b[0;31mZeroDivisionError\u001b[0m                         Traceback (most recent call last)",
            "\u001b[0;32m<ipython-input-1-066f7ba0b324>\u001b[0m in \u001b[0;36m<module>\u001b[0;34m\u001b[0m\n\u001b[1;32m      2\u001b[0m \u001b[0ma\u001b[0m\u001b[0;34m=\u001b[0m\u001b[0mint\u001b[0m\u001b[0;34m(\u001b[0m\u001b[0minput\u001b[0m\u001b[0;34m(\u001b[0m\u001b[0;34m\"Ingrese un número entero: \"\u001b[0m\u001b[0;34m)\u001b[0m\u001b[0;34m)\u001b[0m\u001b[0;34m\u001b[0m\u001b[0;34m\u001b[0m\u001b[0m\n\u001b[1;32m      3\u001b[0m \u001b[0mb\u001b[0m\u001b[0;34m=\u001b[0m\u001b[0mint\u001b[0m\u001b[0;34m(\u001b[0m\u001b[0minput\u001b[0m\u001b[0;34m(\u001b[0m\u001b[0;34m\"Ingrese otro número entero: \"\u001b[0m\u001b[0;34m)\u001b[0m\u001b[0;34m)\u001b[0m\u001b[0;34m\u001b[0m\u001b[0;34m\u001b[0m\u001b[0m\n\u001b[0;32m----> 4\u001b[0;31m \u001b[0mtipo\u001b[0m\u001b[0;34m=\u001b[0m \u001b[0;34m\"División exacta\"\u001b[0m \u001b[0;32mif\u001b[0m \u001b[0;34m(\u001b[0m\u001b[0ma\u001b[0m\u001b[0;34m%\u001b[0m\u001b[0mb\u001b[0m\u001b[0;34m)\u001b[0m\u001b[0;34m==\u001b[0m\u001b[0;36m0\u001b[0m \u001b[0;32melse\u001b[0m \u001b[0;34m\"División no exacta\"\u001b[0m\u001b[0;34m\u001b[0m\u001b[0;34m\u001b[0m\u001b[0m\n\u001b[0m\u001b[1;32m      5\u001b[0m \u001b[0mprint\u001b[0m\u001b[0;34m(\u001b[0m\u001b[0mtipo\u001b[0m\u001b[0;34m)\u001b[0m\u001b[0;34m\u001b[0m\u001b[0;34m\u001b[0m\u001b[0m\n",
            "\u001b[0;31mZeroDivisionError\u001b[0m: integer division or modulo by zero"
          ]
        }
      ]
    },
    {
      "cell_type": "markdown",
      "source": [
        "Una solución puede ser no dividir entre cero. por otro lado se puede agregar una condición al guardar la variable que de cero."
      ],
      "metadata": {
        "id": "oNBe4zxMqfoR"
      }
    },
    {
      "cell_type": "code",
      "source": [
        "a=int(input(\"Ingrese un número entero: \"))\n",
        "b=int(input(\"Ingrese otro número entero: \"))\n",
        "if b==0:\n",
        "  print(\"La división no es valida\")\n",
        "tipo= \"División exacta\" if (a%b)==0 else \"División no exacta\"\n",
        "print(tipo)"
      ],
      "metadata": {
        "colab": {
          "base_uri": "https://localhost:8080/"
        },
        "id": "Eu0OU-oerAg-",
        "outputId": "0e31746c-4c59-4523-d0ca-6ccea66a6fee"
      },
      "execution_count": null,
      "outputs": [
        {
          "output_type": "stream",
          "name": "stdout",
          "text": [
            "Ingrese un número entero: 4\n",
            "Ingrese otro número entero: 5\n",
            "División no exacta\n"
          ]
        }
      ]
    },
    {
      "cell_type": "markdown",
      "source": [
        "#6. NameError\n",
        "Ocurre cuando se intenta usar una variable, función o módulo que no existe o no se usó de manera válida"
      ],
      "metadata": {
        "id": "RMAqIKLBsSh6"
      }
    },
    {
      "cell_type": "code",
      "source": [
        "#En este ejemplo marca el error ya que no hay una asignación anterior para \"ejemplo\"\n",
        "print(Example)"
      ],
      "metadata": {
        "colab": {
          "base_uri": "https://localhost:8080/",
          "height": 183
        },
        "id": "QV7K01D_uOr4",
        "outputId": "ef7d9072-43cb-4b0b-efb2-5679c33e2a0d"
      },
      "execution_count": 2,
      "outputs": [
        {
          "output_type": "error",
          "ename": "NameError",
          "evalue": "ignored",
          "traceback": [
            "\u001b[0;31m---------------------------------------------------------------------------\u001b[0m",
            "\u001b[0;31mNameError\u001b[0m                                 Traceback (most recent call last)",
            "\u001b[0;32m<ipython-input-2-006f818b25a0>\u001b[0m in \u001b[0;36m<module>\u001b[0;34m\u001b[0m\n\u001b[1;32m      1\u001b[0m \u001b[0;31m#En este ejemplo marca el error ya que no hay una asignación anterior para \"ejemplo\"\u001b[0m\u001b[0;34m\u001b[0m\u001b[0;34m\u001b[0m\u001b[0;34m\u001b[0m\u001b[0m\n\u001b[0;32m----> 2\u001b[0;31m \u001b[0mprint\u001b[0m\u001b[0;34m(\u001b[0m\u001b[0mExample\u001b[0m\u001b[0;34m)\u001b[0m\u001b[0;34m\u001b[0m\u001b[0;34m\u001b[0m\u001b[0m\n\u001b[0m",
            "\u001b[0;31mNameError\u001b[0m: name 'Example' is not defined"
          ]
        }
      ]
    },
    {
      "cell_type": "code",
      "source": [
        "##Se puede solucionar asignando un valor a \"ejemplo\"\n",
        "Example=\"Hi\"\n",
        "print(Example)"
      ],
      "metadata": {
        "colab": {
          "base_uri": "https://localhost:8080/"
        },
        "id": "KaC6nSFaukd2",
        "outputId": "631a1b93-0c72-4510-dab6-060e445a332b"
      },
      "execution_count": 3,
      "outputs": [
        {
          "output_type": "stream",
          "name": "stdout",
          "text": [
            "Hi\n"
          ]
        }
      ]
    },
    {
      "cell_type": "markdown",
      "source": [
        "#7.NameError\n"
      ],
      "metadata": {
        "id": "aDywOQ_05YCW"
      }
    },
    {
      "cell_type": "code",
      "source": [
        "nombre=Juan\n",
        "print(nombre)"
      ],
      "metadata": {
        "colab": {
          "base_uri": "https://localhost:8080/",
          "height": 183
        },
        "id": "vOXd1hC1-J4E",
        "outputId": "65e4f20b-d44b-4910-f642-c7ff36d98ea3"
      },
      "execution_count": 11,
      "outputs": [
        {
          "output_type": "error",
          "ename": "NameError",
          "evalue": "ignored",
          "traceback": [
            "\u001b[0;31m---------------------------------------------------------------------------\u001b[0m",
            "\u001b[0;31mNameError\u001b[0m                                 Traceback (most recent call last)",
            "\u001b[0;32m<ipython-input-11-f3c5eb886470>\u001b[0m in \u001b[0;36m<module>\u001b[0;34m\u001b[0m\n\u001b[0;32m----> 1\u001b[0;31m \u001b[0mnombre\u001b[0m\u001b[0;34m=\u001b[0m\u001b[0mJuan\u001b[0m\u001b[0;34m\u001b[0m\u001b[0;34m\u001b[0m\u001b[0m\n\u001b[0m\u001b[1;32m      2\u001b[0m \u001b[0mprint\u001b[0m\u001b[0;34m(\u001b[0m\u001b[0mnombre\u001b[0m\u001b[0;34m)\u001b[0m\u001b[0;34m\u001b[0m\u001b[0;34m\u001b[0m\u001b[0m\n",
            "\u001b[0;31mNameError\u001b[0m: name 'Juan' is not defined"
          ]
        }
      ]
    },
    {
      "cell_type": "code",
      "source": [
        "nombre=(\"Juan\")\n",
        "print(nombre)\n",
        "#La solucion es colocar las comillas"
      ],
      "metadata": {
        "id": "cCdHe1fT-RH4"
      },
      "execution_count": null,
      "outputs": []
    },
    {
      "cell_type": "markdown",
      "source": [
        "#8. ValueError\n",
        "Se genera cuando una función recibe un argumento del tipo correcto pero un valor inapropiado"
      ],
      "metadata": {
        "id": "AQu3n_UXsZOy"
      }
    },
    {
      "cell_type": "code",
      "source": [
        "#En este ejemplo se observa que hay un error ya que no se encuentra el \"4\" en la lista\n",
        "ejemplo.remove(4)"
      ],
      "metadata": {
        "colab": {
          "base_uri": "https://localhost:8080/",
          "height": 165
        },
        "id": "VQYU337-vEoj",
        "outputId": "1ab35888-fd68-4636-d281-abd7a46a700c"
      },
      "execution_count": null,
      "outputs": [
        {
          "output_type": "error",
          "ename": "ValueError",
          "evalue": "ignored",
          "traceback": [
            "\u001b[0;31m---------------------------------------------------------------------------\u001b[0m",
            "\u001b[0;31mValueError\u001b[0m                                Traceback (most recent call last)",
            "\u001b[0;32m<ipython-input-46-607bebb2c1a5>\u001b[0m in \u001b[0;36m<module>\u001b[0;34m\u001b[0m\n\u001b[0;32m----> 1\u001b[0;31m \u001b[0mejemplo\u001b[0m\u001b[0;34m.\u001b[0m\u001b[0mremove\u001b[0m\u001b[0;34m(\u001b[0m\u001b[0;36m4\u001b[0m\u001b[0;34m)\u001b[0m\u001b[0;34m\u001b[0m\u001b[0;34m\u001b[0m\u001b[0m\n\u001b[0m",
            "\u001b[0;31mValueError\u001b[0m: list.remove(x): x not in list"
          ]
        }
      ]
    },
    {
      "cell_type": "code",
      "source": [
        "#Se soluciona agregando la lista para que el \"4\" encuentre su valor correspondiente\n",
        "ejemplo=[\"Banano\",\"Durazno\", 4, 5, False]\n",
        "ejemplo.remove(4)\n",
        "ejemplo"
      ],
      "metadata": {
        "colab": {
          "base_uri": "https://localhost:8080/"
        },
        "id": "kAYUUqgFvQbz",
        "outputId": "faa318c0-fc1d-4302-bd23-273bc69cd4ef"
      },
      "execution_count": 9,
      "outputs": [
        {
          "output_type": "execute_result",
          "data": {
            "text/plain": [
              "['Banano', 'Durazno', 5, False]"
            ]
          },
          "metadata": {},
          "execution_count": 9
        }
      ]
    },
    {
      "cell_type": "markdown",
      "source": [
        "#9. TypeError\n",
        "Ocurre cuando el tipo de datos de los objetos en una operación es inapropiado."
      ],
      "metadata": {
        "id": "pygSFOs9shui"
      }
    },
    {
      "cell_type": "code",
      "source": [
        "#En este ejemplo da error gracias a que se está mezclando numeros con letras.\n",
        "codigo = \"Codigo\"\n",
        "num = 4\n",
        "print(codigo + num + codigo)"
      ],
      "metadata": {
        "colab": {
          "base_uri": "https://localhost:8080/",
          "height": 200
        },
        "id": "Q5SgAmNZwpQG",
        "outputId": "fcb2873a-694d-42a8-d315-0876e8af7819"
      },
      "execution_count": null,
      "outputs": [
        {
          "output_type": "error",
          "ename": "TypeError",
          "evalue": "ignored",
          "traceback": [
            "\u001b[0;31m---------------------------------------------------------------------------\u001b[0m",
            "\u001b[0;31mTypeError\u001b[0m                                 Traceback (most recent call last)",
            "\u001b[0;32m<ipython-input-49-76fda0d719c7>\u001b[0m in \u001b[0;36m<module>\u001b[0;34m\u001b[0m\n\u001b[1;32m      1\u001b[0m \u001b[0mcodigo\u001b[0m \u001b[0;34m=\u001b[0m \u001b[0;34m\"Codigo\"\u001b[0m\u001b[0;34m\u001b[0m\u001b[0;34m\u001b[0m\u001b[0m\n\u001b[1;32m      2\u001b[0m \u001b[0mnum\u001b[0m \u001b[0;34m=\u001b[0m \u001b[0;36m4\u001b[0m\u001b[0;34m\u001b[0m\u001b[0;34m\u001b[0m\u001b[0m\n\u001b[0;32m----> 3\u001b[0;31m \u001b[0mprint\u001b[0m\u001b[0;34m(\u001b[0m\u001b[0mcodigo\u001b[0m \u001b[0;34m+\u001b[0m \u001b[0mnum\u001b[0m \u001b[0;34m+\u001b[0m \u001b[0mcodigo\u001b[0m\u001b[0;34m)\u001b[0m\u001b[0;34m\u001b[0m\u001b[0;34m\u001b[0m\u001b[0m\n\u001b[0m",
            "\u001b[0;31mTypeError\u001b[0m: can only concatenate str (not \"int\") to str"
          ]
        }
      ]
    },
    {
      "cell_type": "code",
      "source": [
        "#Se puede solucionar separando los componentes para que no queden mezclados.\n",
        "codigo = \"Codigo\"\n",
        "num = 4\n",
        "print(codigo + codigo)\n",
        "print(num)"
      ],
      "metadata": {
        "colab": {
          "base_uri": "https://localhost:8080/"
        },
        "id": "1KWccMs-xKPF",
        "outputId": "671a5301-94d4-43b9-8a91-add66caf8b5b"
      },
      "execution_count": null,
      "outputs": [
        {
          "output_type": "stream",
          "name": "stdout",
          "text": [
            "CodigoCodigo\n",
            "4\n"
          ]
        }
      ]
    },
    {
      "cell_type": "markdown",
      "source": [
        "#10. IndexError\n"
      ],
      "metadata": {
        "id": "5SzG4klbsco6"
      }
    },
    {
      "cell_type": "code",
      "source": [
        "#surge si se accedes a índices no válidos en tu lista de Python\n",
        "#En este ejemplo se puede observar que el \"3\" está fuera del rango de la lista\n",
        "lst = ['Alice', 'Bob', 'Carl']\n",
        "print(lst[3])"
      ],
      "metadata": {
        "colab": {
          "base_uri": "https://localhost:8080/",
          "height": 200
        },
        "id": "Zbyq3k55yP09",
        "outputId": "c7a14b57-f0e7-40e0-db1d-f1e5d5aa5a73"
      },
      "execution_count": 12,
      "outputs": [
        {
          "output_type": "error",
          "ename": "IndexError",
          "evalue": "ignored",
          "traceback": [
            "\u001b[0;31m---------------------------------------------------------------------------\u001b[0m",
            "\u001b[0;31mIndexError\u001b[0m                                Traceback (most recent call last)",
            "\u001b[0;32m<ipython-input-12-33e7e8adbfca>\u001b[0m in \u001b[0;36m<module>\u001b[0;34m\u001b[0m\n\u001b[1;32m      2\u001b[0m \u001b[0;31m#En este ejemplo se puede observar que el \"3\" está fuera del rango de la lista\u001b[0m\u001b[0;34m\u001b[0m\u001b[0;34m\u001b[0m\u001b[0;34m\u001b[0m\u001b[0m\n\u001b[1;32m      3\u001b[0m \u001b[0mlst\u001b[0m \u001b[0;34m=\u001b[0m \u001b[0;34m[\u001b[0m\u001b[0;34m'Alice'\u001b[0m\u001b[0;34m,\u001b[0m \u001b[0;34m'Bob'\u001b[0m\u001b[0;34m,\u001b[0m \u001b[0;34m'Carl'\u001b[0m\u001b[0;34m]\u001b[0m\u001b[0;34m\u001b[0m\u001b[0;34m\u001b[0m\u001b[0m\n\u001b[0;32m----> 4\u001b[0;31m \u001b[0mprint\u001b[0m\u001b[0;34m(\u001b[0m\u001b[0mlst\u001b[0m\u001b[0;34m[\u001b[0m\u001b[0;36m3\u001b[0m\u001b[0;34m]\u001b[0m\u001b[0;34m)\u001b[0m\u001b[0;34m\u001b[0m\u001b[0;34m\u001b[0m\u001b[0m\n\u001b[0m",
            "\u001b[0;31mIndexError\u001b[0m: list index out of range"
          ]
        }
      ]
    },
    {
      "cell_type": "code",
      "source": [
        "#Se puede solucionar agregando un número que si se encuentre en la lista\n",
        "lst = ['Alice', 'Bob', 'Carl']\n",
        "print(lst[2])"
      ],
      "metadata": {
        "colab": {
          "base_uri": "https://localhost:8080/"
        },
        "id": "YuwpP1mr0q0X",
        "outputId": "29b8eb88-b7bd-4278-c8ae-c4be559dcba3"
      },
      "execution_count": null,
      "outputs": [
        {
          "output_type": "stream",
          "name": "stdout",
          "text": [
            "Carl\n"
          ]
        }
      ]
    },
    {
      "cell_type": "markdown",
      "source": [
        "#11. UnboundLocalError\n",
        "Ocurre cuando hacemos referencia a una variable local antes de asignarle un valor en una función"
      ],
      "metadata": {
        "id": "QQCyT8X_spdi"
      }
    },
    {
      "cell_type": "code",
      "source": [
        "###Se ve que da error gracias a que \"e\" por no tener un valor en la función\n",
        "import sys\n",
        "\n",
        "def bar(i):\n",
        "    if i == 1:\n",
        "        raise KeyError(1)\n",
        "    if i == 2:\n",
        "        raise ValueError(2)\n",
        "\n",
        "def bad():\n",
        "    e = None\n",
        "    try:\n",
        "        bar(int(sys.argv[1]))\n",
        "    except KeyError as e:\n",
        "        print('key error')\n",
        "    except ValueError as e:\n",
        "        print('value error')\n",
        "    print(e)\n",
        "\n",
        "bad()"
      ],
      "metadata": {
        "colab": {
          "base_uri": "https://localhost:8080/",
          "height": 339
        },
        "id": "2wEi_Iry1E4v",
        "outputId": "f20a1d4b-1b50-4717-b275-84f77b27f94a"
      },
      "execution_count": null,
      "outputs": [
        {
          "output_type": "stream",
          "name": "stdout",
          "text": [
            "value error\n"
          ]
        },
        {
          "output_type": "error",
          "ename": "UnboundLocalError",
          "evalue": "ignored",
          "traceback": [
            "\u001b[0;31m---------------------------------------------------------------------------\u001b[0m",
            "\u001b[0;31mUnboundLocalError\u001b[0m                         Traceback (most recent call last)",
            "\u001b[0;32m<ipython-input-71-362926843aab>\u001b[0m in \u001b[0;36m<module>\u001b[0;34m\u001b[0m\n\u001b[1;32m     17\u001b[0m     \u001b[0mprint\u001b[0m\u001b[0;34m(\u001b[0m\u001b[0me\u001b[0m\u001b[0;34m)\u001b[0m\u001b[0;34m\u001b[0m\u001b[0;34m\u001b[0m\u001b[0m\n\u001b[1;32m     18\u001b[0m \u001b[0;34m\u001b[0m\u001b[0m\n\u001b[0;32m---> 19\u001b[0;31m \u001b[0mbad\u001b[0m\u001b[0;34m(\u001b[0m\u001b[0;34m)\u001b[0m\u001b[0;34m\u001b[0m\u001b[0;34m\u001b[0m\u001b[0m\n\u001b[0m",
            "\u001b[0;32m<ipython-input-71-362926843aab>\u001b[0m in \u001b[0;36mbad\u001b[0;34m()\u001b[0m\n\u001b[1;32m     15\u001b[0m     \u001b[0;32mexcept\u001b[0m \u001b[0mValueError\u001b[0m \u001b[0;32mas\u001b[0m \u001b[0me\u001b[0m\u001b[0;34m:\u001b[0m\u001b[0;34m\u001b[0m\u001b[0;34m\u001b[0m\u001b[0m\n\u001b[1;32m     16\u001b[0m         \u001b[0mprint\u001b[0m\u001b[0;34m(\u001b[0m\u001b[0;34m'value error'\u001b[0m\u001b[0;34m)\u001b[0m\u001b[0;34m\u001b[0m\u001b[0;34m\u001b[0m\u001b[0m\n\u001b[0;32m---> 17\u001b[0;31m     \u001b[0mprint\u001b[0m\u001b[0;34m(\u001b[0m\u001b[0me\u001b[0m\u001b[0;34m)\u001b[0m\u001b[0;34m\u001b[0m\u001b[0;34m\u001b[0m\u001b[0m\n\u001b[0m\u001b[1;32m     18\u001b[0m \u001b[0;34m\u001b[0m\u001b[0m\n\u001b[1;32m     19\u001b[0m \u001b[0mbad\u001b[0m\u001b[0;34m(\u001b[0m\u001b[0;34m)\u001b[0m\u001b[0;34m\u001b[0m\u001b[0;34m\u001b[0m\u001b[0m\n",
            "\u001b[0;31mUnboundLocalError\u001b[0m: local variable 'e' referenced before assignment"
          ]
        }
      ]
    },
    {
      "cell_type": "code",
      "source": [
        "#Se puede solucionar asignando un valor en la función para la parte que marcó error, En este caso en la \"e\".\n",
        "import sys\n",
        "\n",
        "def bar(i):\n",
        "    if i == 1:\n",
        "        raise KeyError(1)\n",
        "    if i == 2:\n",
        "        raise ValueError(2)\n",
        "\n",
        "def good():\n",
        "    exception = None\n",
        "    try:\n",
        "        bar(int(sys.argv[1]))\n",
        "    except KeyError as e:\n",
        "        exception = e\n",
        "        print('key error')\n",
        "    except ValueError as e:\n",
        "        exception = e\n",
        "        print('value error')\n",
        "    print(exception)\n",
        "\n",
        "good()"
      ],
      "metadata": {
        "colab": {
          "base_uri": "https://localhost:8080/"
        },
        "id": "xbLT6_9u2Fme",
        "outputId": "030a8ed4-ce6a-42c6-d802-7013e5e5330f"
      },
      "execution_count": null,
      "outputs": [
        {
          "output_type": "stream",
          "name": "stdout",
          "text": [
            "value error\n",
            "invalid literal for int() with base 10: '-f'\n"
          ]
        }
      ]
    },
    {
      "cell_type": "markdown",
      "source": [
        "#12. ModuleNotFoundError\n",
        "Este error ocurre cuando intenta acceder o usar un módulo que no se puede encontrar"
      ],
      "metadata": {
        "id": "EcrYRkNoswEp"
      }
    },
    {
      "cell_type": "code",
      "source": [
        "#Ocurre porque no se puede encontrar foo para importarlo.\n",
        "import mod\n",
        "mybar = mod.Bar()"
      ],
      "metadata": {
        "colab": {
          "base_uri": "https://localhost:8080/",
          "height": 321
        },
        "id": "k-aUFOg93IZa",
        "outputId": "7afc54c3-3717-477c-88e6-6a609106479c"
      },
      "execution_count": null,
      "outputs": [
        {
          "output_type": "error",
          "ename": "ModuleNotFoundError",
          "evalue": "ignored",
          "traceback": [
            "\u001b[0;31m---------------------------------------------------------------------------\u001b[0m",
            "\u001b[0;31mModuleNotFoundError\u001b[0m                       Traceback (most recent call last)",
            "\u001b[0;32m<ipython-input-78-f618db09cd22>\u001b[0m in \u001b[0;36m<module>\u001b[0;34m\u001b[0m\n\u001b[0;32m----> 1\u001b[0;31m \u001b[0;32mimport\u001b[0m \u001b[0mmod\u001b[0m\u001b[0;34m\u001b[0m\u001b[0;34m\u001b[0m\u001b[0m\n\u001b[0m\u001b[1;32m      2\u001b[0m \u001b[0mmybar\u001b[0m \u001b[0;34m=\u001b[0m \u001b[0mmod\u001b[0m\u001b[0;34m.\u001b[0m\u001b[0mBar\u001b[0m\u001b[0;34m(\u001b[0m\u001b[0;34m)\u001b[0m\u001b[0;34m\u001b[0m\u001b[0;34m\u001b[0m\u001b[0m\n",
            "\u001b[0;31mModuleNotFoundError\u001b[0m: No module named 'mod'",
            "",
            "\u001b[0;31m---------------------------------------------------------------------------\u001b[0;32m\nNOTE: If your import is failing due to a missing package, you can\nmanually install dependencies using either !pip or !apt.\n\nTo view examples of installing some common dependencies, click the\n\"Open Examples\" button below.\n\u001b[0;31m---------------------------------------------------------------------------\u001b[0m\n"
          ],
          "errorDetails": {
            "actions": [
              {
                "action": "open_url",
                "actionText": "Open Examples",
                "url": "/notebooks/snippets/importing_libraries.ipynb"
              }
            ]
          }
        }
      ]
    },
    {
      "cell_type": "markdown",
      "source": [
        "###Se soluciona consiguiendo el paquete del modulo a importar."
      ],
      "metadata": {
        "id": "Ft8xPY7i4LGI"
      }
    },
    {
      "cell_type": "markdown",
      "source": [
        "#13. KeyError\n",
        "Ocurre cuando se intenta acceder a un diccionario con una clave que no existe."
      ],
      "metadata": {
        "id": "IOBwsvDtsz2y"
      }
    },
    {
      "cell_type": "code",
      "source": [
        "#Este código tomará el nombre que proporcione en el aviso e intentará recuperar la edad de esa persona. Lo que escriba en el indicador se usará como clave para el diccionario de edades, en la línea 4.\n",
        "student = {\n",
        "  \"name\": \"John\",\n",
        "  \"course\": \"Python\",\n",
        "}\n",
        "\n",
        "print(student[\"age\"])"
      ],
      "metadata": {
        "colab": {
          "base_uri": "https://localhost:8080/",
          "height": 200
        },
        "id": "tay_utct4nTO",
        "outputId": "e046bc44-3339-4e00-f49b-257934812f35"
      },
      "execution_count": null,
      "outputs": [
        {
          "output_type": "error",
          "ename": "KeyError",
          "evalue": "ignored",
          "traceback": [
            "\u001b[0;31m---------------------------------------------------------------------------\u001b[0m",
            "\u001b[0;31mKeyError\u001b[0m                                  Traceback (most recent call last)",
            "\u001b[0;32m<ipython-input-7-17c8f8fa67ef>\u001b[0m in \u001b[0;36m<module>\u001b[0;34m\u001b[0m\n\u001b[1;32m      4\u001b[0m }\n\u001b[1;32m      5\u001b[0m \u001b[0;34m\u001b[0m\u001b[0m\n\u001b[0;32m----> 6\u001b[0;31m \u001b[0mprint\u001b[0m\u001b[0;34m(\u001b[0m\u001b[0mstudent\u001b[0m\u001b[0;34m[\u001b[0m\u001b[0;34m\"age\"\u001b[0m\u001b[0;34m]\u001b[0m\u001b[0;34m)\u001b[0m\u001b[0;34m\u001b[0m\u001b[0;34m\u001b[0m\u001b[0m\n\u001b[0m",
            "\u001b[0;31mKeyError\u001b[0m: 'age'"
          ]
        }
      ]
    },
    {
      "cell_type": "code",
      "source": [
        "#Podemos usar la \"in\" palabra clave para verificar si un elemento existe en un diccionario.\n",
        "Usando una if...elsedeclaración, devolvemos el artículo si existe o devolvemos un mensaje al usuario para notificarle que no se pudo encontrar el artículo.\n",
        "student = {\n",
        "  \"name\": \"John\",\n",
        "  \"course\": \"Python\",\n",
        "  \"age\": 20\n",
        "}\n",
        "\n",
        "getStudentInfo = input(\"What info about the student do you want? \")\n",
        "\n",
        "if getStudentInfo in student:\n",
        "    print(f\"The value for your request is {student[getStudentInfo]}\")\n",
        "else:\n",
        "\tprint(f\"There is no parameter with the '{getStudentInfo}' key. Try inputing name, course, or age.\")"
      ],
      "metadata": {
        "colab": {
          "base_uri": "https://localhost:8080/"
        },
        "id": "WffqmOLpb_HI",
        "outputId": "e3da92ce-5b6b-4344-9bf1-0d2728b18146"
      },
      "execution_count": null,
      "outputs": [
        {
          "output_type": "stream",
          "name": "stdout",
          "text": [
            "What info about the student do you want? John\n",
            "There is no parameter with the 'John' key. Try inputing name, course, or age.\n"
          ]
        }
      ]
    },
    {
      "cell_type": "markdown",
      "source": [
        "#14. RaiseError\n",
        "Como desarrollador de Python, puede optar por generar una excepción si se produce una condición."
      ],
      "metadata": {
        "id": "e10BvbOas3uZ"
      }
    },
    {
      "cell_type": "code",
      "source": [
        "x = -1\n",
        "\n",
        "if x < 0:\n",
        "  raise Exception(\"Sorry, no numbers below zero\")"
      ],
      "metadata": {
        "colab": {
          "base_uri": "https://localhost:8080/",
          "height": 200
        },
        "id": "8NysIDQTeMbo",
        "outputId": "5c474fa9-9af1-4fec-ddd2-1f782fe1698a"
      },
      "execution_count": null,
      "outputs": [
        {
          "output_type": "error",
          "ename": "Exception",
          "evalue": "ignored",
          "traceback": [
            "\u001b[0;31m---------------------------------------------------------------------------\u001b[0m",
            "\u001b[0;31mException\u001b[0m                                 Traceback (most recent call last)",
            "\u001b[0;32m<ipython-input-11-2edc57024fbc>\u001b[0m in \u001b[0;36m<module>\u001b[0;34m\u001b[0m\n\u001b[1;32m      2\u001b[0m \u001b[0;34m\u001b[0m\u001b[0m\n\u001b[1;32m      3\u001b[0m \u001b[0;32mif\u001b[0m \u001b[0mx\u001b[0m \u001b[0;34m<\u001b[0m \u001b[0;36m0\u001b[0m\u001b[0;34m:\u001b[0m\u001b[0;34m\u001b[0m\u001b[0;34m\u001b[0m\u001b[0m\n\u001b[0;32m----> 4\u001b[0;31m   \u001b[0;32mraise\u001b[0m \u001b[0mException\u001b[0m\u001b[0;34m(\u001b[0m\u001b[0;34m\"Sorry, no numbers below zero\"\u001b[0m\u001b[0;34m)\u001b[0m\u001b[0;34m\u001b[0m\u001b[0;34m\u001b[0m\u001b[0m\n\u001b[0m",
            "\u001b[0;31mException\u001b[0m: Sorry, no numbers below zero"
          ]
        }
      ]
    },
    {
      "cell_type": "code",
      "source": [
        "#Una opción puede ser cambiar la condición.\n",
        "x = 3\n",
        "\n",
        "if x < 0:\n",
        "  raise Exception(\"Sorry, no numbers below zero\")\n",
        "else:\n",
        "  print(x)"
      ],
      "metadata": {
        "colab": {
          "base_uri": "https://localhost:8080/"
        },
        "id": "6_1xIdU1eqF2",
        "outputId": "ae46784d-fe12-44ae-99d4-da5e01d112c1"
      },
      "execution_count": null,
      "outputs": [
        {
          "output_type": "stream",
          "name": "stdout",
          "text": [
            "3\n"
          ]
        }
      ]
    },
    {
      "cell_type": "markdown",
      "source": [
        "#15. ReferenceError"
      ],
      "metadata": {
        "id": "f91n-9_FtIb4"
      }
    },
    {
      "cell_type": "markdown",
      "source": [
        "###El ReferenceError se genera cuando se utiliza un proxy de referencia débil para acceder a un atributo del referente después de la recolección de elementos no utilizados."
      ],
      "metadata": {
        "id": "iPnEyii3oI7e"
      }
    },
    {
      "cell_type": "code",
      "source": [
        "\n",
        "import gc\n",
        "import weakref\n",
        "  \n",
        "class Foo(object):\n",
        "  \n",
        "    def __init__(self, name):\n",
        "        self.name = name\n",
        "      \n",
        "    def __del__(self):\n",
        "        print ('(Deleting %s)' % self)\n",
        "  \n",
        "obj = Foo('obj')\n",
        "p = weakref.proxy(obj)\n",
        "  \n",
        "print ('BEFORE:', p.name)\n",
        "obj = None\n",
        "print ('AFTER:', p.name)"
      ],
      "metadata": {
        "id": "ZH0kCgnvoRZH"
      },
      "execution_count": null,
      "outputs": []
    },
    {
      "cell_type": "markdown",
      "source": [
        "#16. SyntaxError"
      ],
      "metadata": {
        "id": "Cp1SR93uBF0Y"
      }
    },
    {
      "cell_type": "code",
      "source": [
        "print(\"Hola mundo\"):"
      ],
      "metadata": {
        "colab": {
          "base_uri": "https://localhost:8080/",
          "height": 130
        },
        "id": "8pk86LFiBUbH",
        "outputId": "c9e62b21-69c9-4293-eb1d-5baf08dcbbb3"
      },
      "execution_count": 13,
      "outputs": [
        {
          "output_type": "error",
          "ename": "SyntaxError",
          "evalue": "ignored",
          "traceback": [
            "\u001b[0;36m  File \u001b[0;32m\"<ipython-input-13-63e393ab679c>\"\u001b[0;36m, line \u001b[0;32m1\u001b[0m\n\u001b[0;31m    print(\"Hola mundo\"):\u001b[0m\n\u001b[0m                        ^\u001b[0m\n\u001b[0;31mSyntaxError\u001b[0m\u001b[0;31m:\u001b[0m invalid syntax\n"
          ]
        }
      ]
    },
    {
      "cell_type": "code",
      "source": [
        "#Se puede solucionar quitando los dos puntos que sobran\n",
        "print(\"Hola mundo\")"
      ],
      "metadata": {
        "id": "5h56VEUBBeOt"
      },
      "execution_count": null,
      "outputs": []
    },
    {
      "cell_type": "markdown",
      "source": [
        "#17. NameError"
      ],
      "metadata": {
        "id": "o-nvRekvBk-2"
      }
    },
    {
      "cell_type": "code",
      "source": [
        "X=1\n",
        "Y=2\n",
        "\n",
        "print(x+y)"
      ],
      "metadata": {
        "colab": {
          "base_uri": "https://localhost:8080/",
          "height": 200
        },
        "id": "SaAm6_BzByyT",
        "outputId": "dd09039c-424c-4bd1-a912-52cacd52922d"
      },
      "execution_count": 17,
      "outputs": [
        {
          "output_type": "error",
          "ename": "NameError",
          "evalue": "ignored",
          "traceback": [
            "\u001b[0;31m---------------------------------------------------------------------------\u001b[0m",
            "\u001b[0;31mNameError\u001b[0m                                 Traceback (most recent call last)",
            "\u001b[0;32m<ipython-input-17-9dfa4b07743e>\u001b[0m in \u001b[0;36m<module>\u001b[0;34m\u001b[0m\n\u001b[1;32m      2\u001b[0m \u001b[0mY\u001b[0m\u001b[0;34m=\u001b[0m\u001b[0;36m2\u001b[0m\u001b[0;34m\u001b[0m\u001b[0;34m\u001b[0m\u001b[0m\n\u001b[1;32m      3\u001b[0m \u001b[0;34m\u001b[0m\u001b[0m\n\u001b[0;32m----> 4\u001b[0;31m \u001b[0mprint\u001b[0m\u001b[0;34m(\u001b[0m\u001b[0mx\u001b[0m\u001b[0;34m+\u001b[0m\u001b[0my\u001b[0m\u001b[0;34m)\u001b[0m\u001b[0;34m\u001b[0m\u001b[0;34m\u001b[0m\u001b[0m\n\u001b[0m",
            "\u001b[0;31mNameError\u001b[0m: name 'x' is not defined"
          ]
        }
      ]
    },
    {
      "cell_type": "code",
      "source": [
        "#coloca las variables en mayusculas\n",
        "X=1\n",
        "Y=2\n",
        "\n",
        "print(X+Y)"
      ],
      "metadata": {
        "colab": {
          "base_uri": "https://localhost:8080/"
        },
        "id": "E877F8GeCPOM",
        "outputId": "222a4e51-554a-44c6-a127-93899617b144"
      },
      "execution_count": 16,
      "outputs": [
        {
          "output_type": "stream",
          "name": "stdout",
          "text": [
            "3\n"
          ]
        }
      ]
    },
    {
      "cell_type": "markdown",
      "source": [
        "18. #SyntaxError"
      ],
      "metadata": {
        "id": "D65PY7x6Cfb0"
      }
    },
    {
      "cell_type": "code",
      "source": [
        "Lista=(23,4,\"hola\")\n",
        "print(Lista\")"
      ],
      "metadata": {
        "colab": {
          "base_uri": "https://localhost:8080/",
          "height": 130
        },
        "id": "qjewVnuoCfxG",
        "outputId": "cdd03e5e-3fa0-492a-8c69-fb742b375c90"
      },
      "execution_count": 28,
      "outputs": [
        {
          "output_type": "error",
          "ename": "SyntaxError",
          "evalue": "ignored",
          "traceback": [
            "\u001b[0;36m  File \u001b[0;32m\"<ipython-input-28-34625fab63fa>\"\u001b[0;36m, line \u001b[0;32m2\u001b[0m\n\u001b[0;31m    print(Lista\")\u001b[0m\n\u001b[0m                 ^\u001b[0m\n\u001b[0;31mSyntaxError\u001b[0m\u001b[0;31m:\u001b[0m EOL while scanning string literal\n"
          ]
        }
      ]
    },
    {
      "cell_type": "code",
      "source": [
        "#Para imprimir las lista no se usan comillas\n",
        "Lista=(23,4,\"hola\")\n",
        "print(Lista)"
      ],
      "metadata": {
        "colab": {
          "base_uri": "https://localhost:8080/"
        },
        "id": "LXtA5SH2DmvE",
        "outputId": "e1639402-6cff-4b1b-c231-427bee23cf79"
      },
      "execution_count": 29,
      "outputs": [
        {
          "output_type": "stream",
          "name": "stdout",
          "text": [
            "(23, 4, 'hola')\n"
          ]
        }
      ]
    },
    {
      "cell_type": "markdown",
      "source": [
        "#19. SyntaxError: invalid syntax"
      ],
      "metadata": {
        "id": "71zA5Ha0Dvu9"
      }
    },
    {
      "cell_type": "code",
      "source": [
        "Y=input(str())\n",
        "Z=input(int())\n",
        "\n",
        "pirnt(Y X)"
      ],
      "metadata": {
        "colab": {
          "base_uri": "https://localhost:8080/",
          "height": 130
        },
        "id": "7UrcdAgID2B6",
        "outputId": "d9606a05-7a26-4b5e-ac56-a5d71d0b0240"
      },
      "execution_count": 30,
      "outputs": [
        {
          "output_type": "error",
          "ename": "SyntaxError",
          "evalue": "ignored",
          "traceback": [
            "\u001b[0;36m  File \u001b[0;32m\"<ipython-input-30-af38c12586d7>\"\u001b[0;36m, line \u001b[0;32m4\u001b[0m\n\u001b[0;31m    pirnt(Y X)\u001b[0m\n\u001b[0m            ^\u001b[0m\n\u001b[0;31mSyntaxError\u001b[0m\u001b[0;31m:\u001b[0m invalid syntax\n"
          ]
        }
      ]
    },
    {
      "cell_type": "code",
      "source": [
        "#Se separan con comas para imprimir\n",
        "Y=input(str())\n",
        "Z=input(int())\n",
        "\n",
        "pirnt(Y, X)"
      ],
      "metadata": {
        "id": "XHMgZqbcENVr"
      },
      "execution_count": null,
      "outputs": []
    },
    {
      "cell_type": "markdown",
      "source": [
        "#20. SyntaxError: /variables"
      ],
      "metadata": {
        "id": "kQft7KwwEYfo"
      }
    },
    {
      "cell_type": "code",
      "source": [
        "Y=907Hola\n",
        "\n",
        "print(Y)\n"
      ],
      "metadata": {
        "colab": {
          "base_uri": "https://localhost:8080/",
          "height": 130
        },
        "id": "PRZZ0uK7EaFl",
        "outputId": "f5f47f5b-bc6c-4b61-bc29-dfe6ac0bb3db"
      },
      "execution_count": 31,
      "outputs": [
        {
          "output_type": "error",
          "ename": "SyntaxError",
          "evalue": "ignored",
          "traceback": [
            "\u001b[0;36m  File \u001b[0;32m\"<ipython-input-31-5f3c98276f37>\"\u001b[0;36m, line \u001b[0;32m1\u001b[0m\n\u001b[0;31m    Y=907Hola\u001b[0m\n\u001b[0m            ^\u001b[0m\n\u001b[0;31mSyntaxError\u001b[0m\u001b[0;31m:\u001b[0m invalid syntax\n"
          ]
        }
      ]
    },
    {
      "cell_type": "code",
      "source": [
        "#Si tenemos dos datos es mejor asignar dos variables y no combianr datos\n",
        "Y=907\n",
        "X=\"Hola\"\n",
        "\n",
        "print(Y)"
      ],
      "metadata": {
        "id": "_ntQTz0MEotQ"
      },
      "execution_count": null,
      "outputs": []
    }
  ]
}