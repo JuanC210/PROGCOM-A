{
  "nbformat": 4,
  "nbformat_minor": 0,
  "metadata": {
    "colab": {
      "name": "Ejercicios",
      "provenance": []
    },
    "kernelspec": {
      "name": "python3",
      "display_name": "Python 3"
    },
    "language_info": {
      "name": "python"
    }
  },
  "cells": [
    {
      "cell_type": "markdown",
      "source": [
        "#Ejercicio 1\n",
        "####1.\tEscriba un programa que solicite dos números enteros y calcule su división. El programa debe definir si la división es exacta o no. Si no es exacta, debe imprimir cuál es su residuo. ¿Qué debería imprimir el programa si la división es entre cero?\n",
        "\n",
        "\n",
        "\n"
      ],
      "metadata": {
        "id": "CUPJnpHup8cW"
      }
    },
    {
      "cell_type": "code",
      "execution_count": 32,
      "metadata": {
        "colab": {
          "base_uri": "https://localhost:8080/"
        },
        "id": "m-HXgfWwj4lN",
        "outputId": "e7c50b9c-3788-4117-8fe7-b007fcddc317"
      },
      "outputs": [
        {
          "output_type": "stream",
          "name": "stdout",
          "text": [
            "Ingrese un número que va a ser dividio9\n",
            "Ingrese el número divisor7\n",
            "La división no es exacta da como resultado 1.2857142857142858 Con remanente de 2\n"
          ]
        }
      ],
      "source": [
        "X=int(input(\"Ingrese un número que va a ser dividio\"))\n",
        "Y=int(input(\"Ingrese el número divisor\"))\n",
        "if  Y==0:\n",
        " print(\"La división no es posible\")\n",
        "elif (X%Y)==0:\n",
        " print(X/Y,\"La división es exacta\")\n",
        "else: \n",
        " print(\"La división no es exacta y da como resultado\",(X/Y), \"con remanente de\",(X%Y))\n",
        "\n"
      ]
    },
    {
      "cell_type": "markdown",
      "source": [
        "#Ejercico 2\n",
        "####2.\tEscriba un programa que pida dos números e indique si uno es múltiplo del otro."
      ],
      "metadata": {
        "id": "UB94cU5ytaAu"
      }
    },
    {
      "cell_type": "code",
      "source": [
        "X=int(input(\"Ingrese un número \"))\n",
        "Y=int(input(\"Ingrese el número \"))\n",
        "if  X==0 or Y==0:\n",
        " print(\"Cualquier número multiplicado por cero es cero es cero múltiplo cualquier número \")\n",
        "elif (X%Y)==0 or (Y%X)==0:\n",
        " print(X,\"Es múltiplo de\", Y)\n",
        "else:\n",
        " print(Y,\"No es múltiplo de\",X)"
      ],
      "metadata": {
        "colab": {
          "base_uri": "https://localhost:8080/"
        },
        "id": "knnTVYLKkn5h",
        "outputId": "72dbf68b-1315-4331-9559-c3aefad193f8"
      },
      "execution_count": 54,
      "outputs": [
        {
          "output_type": "stream",
          "name": "stdout",
          "text": [
            "Ingrese un número 9\n",
            "Ingrese el número 0\n",
            "Cualquier numero de cero es cero múltiplo de\n"
          ]
        }
      ]
    },
    {
      "cell_type": "code",
      "source": [
        ""
      ],
      "metadata": {
        "id": "Pzfh8W_1xsD_"
      },
      "execution_count": null,
      "outputs": []
    }
  ]
}