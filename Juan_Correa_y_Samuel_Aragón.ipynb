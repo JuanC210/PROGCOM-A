{
  "nbformat": 4,
  "nbformat_minor": 0,
  "metadata": {
    "colab": {
      "name": "Juan Correa y Samuel Aragón ",
      "provenance": []
    },
    "kernelspec": {
      "name": "python3",
      "display_name": "Python 3"
    },
    "language_info": {
      "name": "python"
    }
  },
  "cells": [
    {
      "cell_type": "markdown",
      "source": [
        "#Profe lo hice con Samuel"
      ],
      "metadata": {
        "id": "96vNYSXA0Jco"
      }
    },
    {
      "cell_type": "code",
      "execution_count": 57,
      "metadata": {
        "colab": {
          "base_uri": "https://localhost:8080/"
        },
        "id": "6mRZIKf1hzlK",
        "outputId": "4c552ffb-95db-4aa8-e2b8-a7608cd2297f"
      },
      "outputs": [
        {
          "output_type": "stream",
          "name": "stdout",
          "text": [
            "ingrese el número 4\n",
            "4 MOD 1 = 0\n",
            "4 MOD 2 = 0\n",
            "4 MOD 3 = 1\n",
            "4 MOD 4 = 0\n",
            " \n",
            "4 Es divisible por más valores qué 1 y el mismo por lo que 4 no es un número primo\n"
          ]
        }
      ],
      "source": [
        "# Ejercicio 1- Indicar si un número N es um número primo(siendo N un número que se lee)acumulador = 0(Realizado con For)\n",
        "Acumulador=0\n",
        "N=int(input(\"ingrese el número \"))\n",
        "for i in range (1,N+1):\n",
        "  print(N,\"MOD\",i,\"=\",N%i) ## Esta parte no es fundamental en el codigo, se usa para darle al usuario la justificación de los valores que dividen al numero\n",
        "  if N%i == 0:\n",
        "     Acumulador= Acumulador + 1\n",
        "\n",
        "print(\" \")## Espacio para separar la respuesta de la lista de los MOD\n",
        "\n",
        "if Acumulador <= 2:\n",
        " print(N, \"Solo es divisible por 1 y el mismo por lo que\", N,\"es un número primo\")\n",
        "else:\n",
        "  print(N, \"Es divisible por más valores qué 1 y el mismo por lo que\", N,\"no es un número primo\")\n"
      ]
    },
    {
      "cell_type": "code",
      "source": [
        "# Ejercicio 1- Indicar si un número N es um número primo(siendo N un número que se lee)acumulador = 0(Realizado con While)\n",
        "n=int(input(\"Ingresa un número, menos el 2 porfa \"))\n",
        "i=2\n",
        "while n%i !=0:\n",
        "  i+=1\n",
        "if i==n:\n",
        "  print(str(n),\" es primo\")\n",
        "\n",
        "else:\n",
        "  print(str(n), \" no es primo\")"
      ],
      "metadata": {
        "colab": {
          "base_uri": "https://localhost:8080/"
        },
        "id": "BEej8hX8mFOy",
        "outputId": "ebfad731-2767-4e11-fd5c-e9a162bee024"
      },
      "execution_count": 60,
      "outputs": [
        {
          "output_type": "stream",
          "name": "stdout",
          "text": [
            "Ingresa un número, menos el 2 porfa 3\n",
            "3  es primo\n"
          ]
        }
      ]
    },
    {
      "cell_type": "markdown",
      "source": [
        ""
      ],
      "metadata": {
        "id": "jZD7_d-20HlC"
      }
    }
  ]
}