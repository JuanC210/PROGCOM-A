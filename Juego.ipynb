{
  "nbformat": 4,
  "nbformat_minor": 0,
  "metadata": {
    "colab": {
      "provenance": []
    },
    "kernelspec": {
      "name": "python3",
      "display_name": "Python 3"
    },
    "language_info": {
      "name": "python"
    }
  },
  "cells": [
    {
      "cell_type": "code",
      "execution_count": 2,
      "metadata": {
        "id": "6KzrgXZJW4xB",
        "colab": {
          "base_uri": "https://localhost:8080/",
          "height": 130
        },
        "outputId": "5c3dcd8b-764b-4ec7-b516-e2fcbbe5fc7c"
      },
      "outputs": [
        {
          "output_type": "error",
          "ename": "SyntaxError",
          "evalue": "ignored",
          "traceback": [
            "\u001b[0;36m  File \u001b[0;32m\"<ipython-input-2-2880e97a17ee>\"\u001b[0;36m, line \u001b[0;32m48\u001b[0m\n\u001b[0;31m    for i in Resultado\u001b[0m\n\u001b[0m                      ^\u001b[0m\n\u001b[0;31mSyntaxError\u001b[0m\u001b[0;31m:\u001b[0m invalid syntax\n"
          ]
        }
      ],
      "source": [
        "import random\n",
        "import os\n",
        "\n",
        "\n",
        "palabras = [\"CAMELLO\",\"AMIGO\",\"CANGREJO\",\"CAMALEÓN\", \"\"]\n",
        "\n",
        "palabra = list(random.choice(palabras))\n",
        "\n",
        "Horca= [\"           !========\", \n",
        "        \"                   N\", \n",
        "        \"                   N\", \n",
        "        \"                   N\", \n",
        "        \"                   N\", \n",
        "        \"                   N\", \n",
        "        \"                   N\", \n",
        "        \"       ____________N\"]\n",
        "                            \n",
        "Ahorcado = [\"         !=========\", \n",
        "           \"          o        N\", \n",
        "           \"        / | \\      N\", \n",
        "           \"        \\ | /      N\", \n",
        "           \"         /  \\      N\", \n",
        "           \"        /    \\     N\", \n",
        "           \"        \\    /     N\", \n",
        "           \"       ____________N\"]                            \n",
        "                            \n",
        "                            \n",
        "Letras_todas = [] \n",
        "Errores = 1\n",
        "\n",
        "Resultado = []                         \n",
        "                            \n",
        "for i in range(len(palabra)):\n",
        "       Resultado.append(\"_\")\n",
        "\n",
        "while True:\n",
        "    os.system(\"cls\")\n",
        "\n",
        "    print(\"********* JUEGO DEL AHORCADO*********\")\n",
        "\n",
        "    for i in range(Errores):\n",
        "        print(Ahorcado[i])\n",
        "    for i in range(len(Horca)-Errores):\n",
        "        print(Horca[i+Errores])\n",
        "    \n",
        "    print()\n",
        "    print(\"     \", end=\" \")\n",
        "    for i in Resultado\n",
        "    \n",
        "    if Resultado == palabra:\n",
        "      print(\"***Ganador\")\n",
        "      break\n",
        "\n",
        "    if Errores > 6:\n",
        "      print(\"La palabra era:\",\"\".join(palabra))\n",
        "      print(\"***perdedor***\")\n",
        "      break\n",
        "\n",
        "      while True:\n",
        "        letra_usuario_sin_formato = input(\"Di una letra\")\n",
        "        letra_usuario = letra_usuario_sin_formato.upper()\n",
        "        if len(letra usuario ) != 1:\n",
        "          print(\"Introduce una letra\")\n",
        "        elif letra_usuario in letras_todas:\n",
        "          print(\"Esa letra ya se dijo\")\n",
        "        elif letra_usuario not in \"ABCDEFGHIJKLMNOPQRSTUVWXYZ\":\n",
        "          print(\"Introduce una letra\")\n",
        "        else:\n",
        "          letra_todas.append(letra_usuario)\n",
        "          break\n",
        "\n",
        "        \n",
        "        for i in range(len(palabra)):\n",
        "          if palabra[i] == letra_usuario:\n",
        "            Resultado[i] == letra_usuario\n",
        "\n",
        "        if letra_usuario not in palabra:\n",
        "          Errores += 1\n",
        "\n",
        "    print()\n",
        "    print() \n",
        "\n",
        "\n",
        "                                     "
      ]
    }
  ]
}