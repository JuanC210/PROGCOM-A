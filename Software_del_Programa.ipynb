{
  "nbformat": 4,
  "nbformat_minor": 0,
  "metadata": {
    "colab": {
      "provenance": []
    },
    "kernelspec": {
      "name": "python3",
      "display_name": "Python 3"
    },
    "language_info": {
      "name": "python"
    }
  },
  "cells": [
    {
      "cell_type": "markdown",
      "source": [
        "#Vectores R3\n"
      ],
      "metadata": {
        "id": "Bzo3fJUdEiu-"
      }
    },
    {
      "cell_type": "code",
      "source": [
        "import numpy as np \n",
        "a=int(input(\"Escriba la coordenada i del vector 1 \"))\n",
        "b=int(input(\"Escriba la coordenada j del vector 1 \"))\n",
        "c=int(input(\"Escriba la coordenada z del vector 1 \"))\n",
        "\n",
        "v1 = np.array([a, b, c])\n",
        "\n",
        "e=int(input(\"Escriba la coordenada i del vector 2 \"))\n",
        "f=int(input(\"Escriba la coordenada j del vector 2 \"))\n",
        "g=int(input(\"Escriba la coordenada z del vector 2 \"))\n",
        "\n",
        "v2= np.array([e, f, g])\n",
        "print()\n",
        "print(\"Vector 1:\", v1)\n",
        "print(\"Tamaño del vector 1:\", v1.shape)\n",
        "print()\n",
        "print(\"Vector 2:\", v2)\n",
        "print(\"Tamaño del vector 2:\", v2.shape)\n",
        "print()\n",
        "\n",
        "x = v1\n",
        "y = v2\n",
        "\n",
        "# Producto escalar \n",
        "pE = x.dot(y)\n",
        "\n",
        "print(\"Producto escalar entre v1 y v2 =\", pE)\n",
        "print()\n",
        "\n",
        "# Producto Vectorial\n",
        "pV = np.array([x[1]*y[2]-x[2]*y[1], x[2]*y[0]-x[0]*y[2], x[0]*y[1]-x[1]*y[0] ])\n",
        "print(\"Producto vectorial=\", pV)\n",
        "print()\n",
        "\n",
        "# Ángulo entre los vectores\n",
        "print()\n",
        "ang = np.arccos( np.dot(x,y) / (np.linalg.norm(x)*np.linalg.norm(y)) ) \n",
        "\n",
        "if pE== 0:\n",
        "  print(\"Como el producto escalar entre los vectores es 0 son perpendiculares osea su angulo es de 90 grados\")\n",
        "elif pE== 1:\n",
        "   print(\"Como el producto escalar entre los vectores es 1 son paralelos osea su angulo es de 0 grados\")\n",
        "elif pE== -1:\n",
        "   print(\"Como el producto escalar entre los vectores es 1 son paralelos osea su angulo es de 0 grados\")\n",
        "else:\n",
        "   print(\"Ángulo entre los vectores v1 y v2= {:.4f} rad\".format(ang))\n",
        "   print(\"Ángulo entre los vectores v1 y v2= {:.2f} deg\".format(np.rad2deg(ang)))"
      ],
      "metadata": {
        "colab": {
          "base_uri": "https://localhost:8080/"
        },
        "id": "veYQF-E2e4qW",
        "outputId": "27cb8f67-b76b-497d-d0ed-afdf7d58b889"
      },
      "execution_count": 1,
      "outputs": [
        {
          "output_type": "stream",
          "name": "stdout",
          "text": [
            "Escriba la coordenada i del vector 1 8\n",
            "Escriba la coordenada j del vector 1 5\n",
            "Escriba la coordenada z del vector 1 2\n",
            "Escriba la coordenada i del vector 2 10\n",
            "Escriba la coordenada j del vector 2 5\n",
            "Escriba la coordenada z del vector 2 8\n",
            "\n",
            "Vector 1: [8 5 2]\n",
            "Tamaño del vector 1: (3,)\n",
            "\n",
            "Vector 2: [10  5  8]\n",
            "Tamaño del vector 2: (3,)\n",
            "\n",
            "Producto escalar entre v1 y v2 = 121\n",
            "\n",
            "Producto vectorial= [ 30 -44 -10]\n",
            "\n",
            "\n",
            "Ángulo entre los vectores v1 y v2= 0.4210 rad\n",
            "Ángulo entre los vectores v1 y v2= 24.12 deg\n"
          ]
        }
      ]
    }
  ]
}